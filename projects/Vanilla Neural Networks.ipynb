{
 "cells": [
  {
   "cell_type": "markdown",
   "metadata": {},
   "source": [
    "# About\n",
    "\n",
    "* TODO motivation\n",
    "* TODO link to math\n",
    "\n",
    "* Task: classify pictures green apples and oranges\n",
    "* Data: 3x3 images, only green or orange pixel. if there are more green pixel than orange pixel in the picture, it is shows an apple, otherwise it shows an orange. \n",
    "* Model:\n",
    "* Optimization process: \n",
    "\n",
    "\n",
    "\n"
   ]
  },
  {
   "cell_type": "markdown",
   "metadata": {},
   "source": [
    "## Data"
   ]
  },
  {
   "cell_type": "code",
   "execution_count": 20,
   "metadata": {
    "collapsed": true
   },
   "outputs": [],
   "source": [
    "# data 1 \n",
    "OP = 1 # Orange pixel\n",
    "GP = 2 # Green pixel\n",
    "\n",
    "pictures=[\n",
    "    [OP, OP, OP, GP, OP, OP, GP, OP, OP], # orange\n",
    "    [OP, OP, OP, GP, GP, GP, GP, GP, GP], # apple\n",
    "    [OP, OP, OP, GP, OP, OP, OP, OP, OP], # orange\n",
    "    [GP, GP, GP, GP, OP, OP, GP, OP, OP], # apple    \n",
    "]\n"
   ]
  },
  {
   "cell_type": "markdown",
   "metadata": {},
   "source": [
    "## Manually define function"
   ]
  },
  {
   "cell_type": "code",
   "execution_count": 23,
   "metadata": {},
   "outputs": [
    {
     "name": "stdout",
     "output_type": "stream",
     "text": [
      "Green pixel: 1\n",
      "Orange pixel: 8\n",
      "Picture 2 shows an Orange\n",
      "Green pixel: 6\n",
      "Orange pixel: 3\n",
      "Picture 1 shows an Apple\n"
     ]
    }
   ],
   "source": [
    "# input_x = [pixels of image]\n",
    "IS_ORANGE=1\n",
    "IS_APPLE=2\n",
    "\n",
    "# function definition\n",
    "def classify_picture(input_x):\n",
    "    \n",
    "    # function body\n",
    "    green_pixel = 0\n",
    "    orange_pixel = 0 \n",
    "    for pixel in input_x:\n",
    "        if pixel==OP:\n",
    "            orange_pixel+=1\n",
    "        elif pixel==GP:\n",
    "            green_pixel+=1\n",
    "            \n",
    "    print(\"Green pixel: %i\"%green_pixel)\n",
    "    print(\"Orange pixel: %i\"%orange_pixel)\n",
    "    \n",
    "    if green_pixel>orange_pixel:\n",
    "        output = IS_APPLE\n",
    "    if orange_pixel>green_pixel:\n",
    "        output = IS_ORANGE\n",
    "\n",
    "    # return output\n",
    "    return output\n",
    "\n",
    "def test_function(picture_id):\n",
    "    \n",
    "    picture_content = classify_picture(pictures[picture_id])\n",
    "    \n",
    "    content = \"Orange\" if picture_content==IS_ORANGE else \"Apple\"\n",
    "    print(\"Picture %i shows an %s\"%(picture_id, content))\n",
    "    \n",
    "\n",
    "# run function\n",
    "    \n",
    "test_function(picture_id=2)\n",
    "test_function(picture_id=1)\n",
    "    \n",
    "    "
   ]
  },
  {
   "cell_type": "markdown",
   "metadata": {},
   "source": [
    "# Learn function with SGD (linear activation)"
   ]
  },
  {
   "cell_type": "code",
   "execution_count": 6,
   "metadata": {},
   "outputs": [],
   "source": [
    "import tensorflow as tf\n",
    "assert tf.__version__==\"1.0.1\"\n"
   ]
  },
  {
   "cell_type": "markdown",
   "metadata": {},
   "source": [
    "\n",
    "Remember from the previous section, that this is the function that we want to learn. \n",
    "\n",
    "```python\n",
    "def classify_picture(input_x):\n",
    "    # function body\n",
    "\n",
    "    # ... do some calculations on input_x to get the output\n",
    "    # we want to learn these calculations\n",
    "\n",
    "    return output # 1 if the picture shows an orange, 2 if the picture shows an apple\n",
    "```"
   ]
  },
  {
   "cell_type": "code",
   "execution_count": 27,
   "metadata": {},
   "outputs": [],
   "source": [
    "# input of function\n",
    "input_x = tf.placeholder(shape=[None,9], dtype=tf.float32) # [batch_size, 2]\n",
    "\n",
    "# body of function, the model that you define\n",
    "weights = tf.Variable(tf.random_normal([9, 1], stddev=0.35), name=\"weights\")\n",
    "biases = tf.Variable(tf.zeros([1]), name=\"biases\")\n",
    "output = tf.matmul(weights,input_x)\n",
    "\n",
    "# TODO explain basic idea => assign weights to inputs, learn the weights\n",
    "# TODO explain matrix multiplication\n",
    "# TODO explain batch size\n",
    "# TODO learn bias\n",
    "# TODO explain loss function\n"
   ]
  },
  {
   "cell_type": "code",
   "execution_count": null,
   "metadata": {
    "collapsed": true
   },
   "outputs": [],
   "source": [
    "# TODO show what happens if you execute the function "
   ]
  },
  {
   "cell_type": "code",
   "execution_count": 16,
   "metadata": {},
   "outputs": [],
   "source": [
    "# TODO how to train the function\n",
    "\n",
    "# TODO show steps of gradient descent\n",
    "\n",
    "\n",
    "# TODO explain that gradients show how \"wrong\" your solution is. \n",
    "# Tell you how to correct your weights of your model so that the function performs better in the future\n",
    "\n",
    "# TODO link to other tools like keras or scikit learn (fit, predict, fit_predict )\n"
   ]
  },
  {
   "cell_type": "markdown",
   "metadata": {},
   "source": [
    "# Learn function with SGD (non-linear activation)\n",
    "* TODO explain what non-linear activation does for you\n"
   ]
  },
  {
   "cell_type": "code",
   "execution_count": null,
   "metadata": {
    "collapsed": true
   },
   "outputs": [],
   "source": [
    "# Learn "
   ]
  }
 ],
 "metadata": {
  "kernelspec": {
   "display_name": "Python 3",
   "language": "python",
   "name": "python3"
  },
  "language_info": {
   "codemirror_mode": {
    "name": "ipython",
    "version": 3
   },
   "file_extension": ".py",
   "mimetype": "text/x-python",
   "name": "python",
   "nbconvert_exporter": "python",
   "pygments_lexer": "ipython3",
   "version": "3.5.3"
  }
 },
 "nbformat": 4,
 "nbformat_minor": 2
}
